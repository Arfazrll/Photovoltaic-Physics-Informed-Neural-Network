{
 "cells": [
  {
   "cell_type": "code",
   "execution_count": 6,
   "id": "46bbb04d",
   "metadata": {},
   "outputs": [
    {
     "name": "stdout",
     "output_type": "stream",
     "text": [
      "Processing name: 2015\n",
      "Making request for point group 1 of 1...\n",
      "File generation in progress. An email will be sent to azril4974@gmail.com when the download is ready.\n",
      "Data can be downloaded from this url when ready: https://mapfiles.nrel.gov/data/solar/d0ca611edd5f16e36b0aad9e8bbc23e5.zip\n",
      "Processed\n"
     ]
    }
   ],
   "source": [
    "import requests\n",
    "import time\n",
    "\n",
    "API_KEY = \"5UJ5tIly7mGOjMTva5LGR1gVe9NIDoh4WPFVHish\"\n",
    "EMAIL = \"azril4974@gmail.com\"\n",
    "BASE_URL = \"https://developer.nrel.gov/api/nsrdb/v2/solar/himawari7-download.json?\"\n",
    "\n",
    "POINTS = [\n",
    "    '1398305'\n",
    "]\n",
    "\n",
    "def main():\n",
    "    input_data = {\n",
    "        'attributes': 'air_temperature,alpha,aod,asymmetry,clearsky_dhi,clearsky_dni,clearsky_ghi,cloud_type,dew_point,dhi,dni,fill_flag,ghi,ozone,relative_humidity,solar_zenith_angle,surface_albedo,surface_pressure,total_precipitable_water,wind_direction,wind_speed',\n",
    "        'interval': '60',\n",
    "        'include_leap_day': 'true',\n",
    "        'to_utc': 'false',\n",
    "        'api_key': API_KEY,\n",
    "        'email': EMAIL,\n",
    "    }\n",
    "    for name in ['2015']:\n",
    "        print(f\"Processing name: {name}\")\n",
    "        for idx, location_id in enumerate(POINTS):\n",
    "            input_data['names'] = name\n",
    "            input_data['location_ids'] = location_id\n",
    "            print(f'Making request for point group {idx + 1} of {len(POINTS)}...')\n",
    "            headers = {'x-api-key': API_KEY}\n",
    "\n",
    "            response = requests.post(BASE_URL, json=input_data, headers=headers)\n",
    "            data = response.json()\n",
    "            if 'outputs' in data and 'downloadUrl' in data['outputs']:\n",
    "                download_url = data['outputs']['downloadUrl']\n",
    "                print(data['outputs'].get('message', 'Request Success'))\n",
    "                print(f\"Data can be downloaded from this url when ready: {download_url}\")\n",
    "            else:\n",
    "                print(\"No download URL found in response.\")\n",
    "            print('Processed')\n",
    "            time.sleep(1)\n",
    "\n",
    "if __name__ == \"__main__\":\n",
    "    main()\n"
   ]
  }
 ],
 "metadata": {
  "kernelspec": {
   "display_name": "base",
   "language": "python",
   "name": "python3"
  },
  "language_info": {
   "codemirror_mode": {
    "name": "ipython",
    "version": 3
   },
   "file_extension": ".py",
   "mimetype": "text/x-python",
   "name": "python",
   "nbconvert_exporter": "python",
   "pygments_lexer": "ipython3",
   "version": "3.12.4"
  }
 },
 "nbformat": 4,
 "nbformat_minor": 5
}
